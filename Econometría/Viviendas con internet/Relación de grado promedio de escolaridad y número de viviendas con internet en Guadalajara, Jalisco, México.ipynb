{
 "cells": [
  {
   "cell_type": "markdown",
   "metadata": {},
   "source": [
    "# Relación de grado promedio de escolaridad y número de viviendas con internet en Guadalajara, Jalisco, México"
   ]
  },
  {
   "cell_type": "markdown",
   "metadata": {},
   "source": [
    "En éste ejercicio, veremos la relación que obtiene el grado de escolaridad promedio de la colonia y el número de viviendas que cuentan con internet. Siendo nuestra <b>variable independiente poblacion economicamente activa <i>(PEA)</i></b>, y la <b>variable dependiente viviendas particulares habitadas que disponen de internet <i>(VPDHI)</i>.</b>"
   ]
  },
  {
   "cell_type": "markdown",
   "metadata": {},
   "source": [
    "&emsp;Estos datos fueron recuperados de la página datos.jalisco.gob.mx, obtenidos por el <b><i>Institulo Informativo de Estadística Geografía del Estado de Jalisco </i>(IIEG)</b>, representativos del año 2010."
   ]
  },
  {
   "cell_type": "markdown",
   "metadata": {},
   "source": [
    "### Librerias utilizadas"
   ]
  },
  {
   "cell_type": "markdown",
   "metadata": {},
   "source": [
    "Para este ejercicio se implementará la libreria <b>Pandas</b>, para el análisis de datos, <b>Numpy</b>, para en análisis estadístico del grado de escolaridad promedio y número de viviendas con internet, <b>Matplotlib</b>, para la representación gráfica de los mismos, y <b>Stats de scipy</b> para crear el modelo de regresión lineal."
   ]
  },
  {
   "cell_type": "code",
   "execution_count": 1,
   "metadata": {},
   "outputs": [],
   "source": [
    "import pandas as pd\n",
    "import matplotlib.pyplot as plt\n",
    "import numpy as np\n",
    "from scipy import stats"
   ]
  },
  {
   "cell_type": "markdown",
   "metadata": {},
   "source": [
    "### Utilización de datos"
   ]
  },
  {
   "cell_type": "markdown",
   "metadata": {},
   "source": [
    "A continuación se tomará el archivo csv con el nombre <i>viviendas_con_internet.csv</i> a través de pandas en una variable que se nombrará <b><i>data</i></b>."
   ]
  },
  {
   "cell_type": "code",
   "execution_count": 2,
   "metadata": {},
   "outputs": [],
   "source": [
    "data = pd.read_csv(\"viviendas_con_internet.csv\")"
   ]
  },
  {
   "cell_type": "markdown",
   "metadata": {},
   "source": [
    "A continuación se utilizará el método <b>head</b> de la librería pandas para comprobar que nuestra información dentro de la variable <b><i>data</i></b> sea la correcta."
   ]
  },
  {
   "cell_type": "code",
   "execution_count": 3,
   "metadata": {},
   "outputs": [
    {
     "data": {
      "text/html": [
       "<div>\n",
       "<style scoped>\n",
       "    .dataframe tbody tr th:only-of-type {\n",
       "        vertical-align: middle;\n",
       "    }\n",
       "\n",
       "    .dataframe tbody tr th {\n",
       "        vertical-align: top;\n",
       "    }\n",
       "\n",
       "    .dataframe thead th {\n",
       "        text-align: right;\n",
       "    }\n",
       "</style>\n",
       "<table border=\"1\" class=\"dataframe\">\n",
       "  <thead>\n",
       "    <tr style=\"text-align: right;\">\n",
       "      <th></th>\n",
       "      <th>Municipio</th>\n",
       "      <th>Colonia</th>\n",
       "      <th>poblacion_economicamente_activa</th>\n",
       "      <th>viviendas_particulares_habitadas_que_disponen_de_internet</th>\n",
       "    </tr>\n",
       "  </thead>\n",
       "  <tbody>\n",
       "    <tr>\n",
       "      <th>0</th>\n",
       "      <td>Guadalajara</td>\n",
       "      <td>COMERCIAL ABASTOS</td>\n",
       "      <td>0</td>\n",
       "      <td>0</td>\n",
       "    </tr>\n",
       "    <tr>\n",
       "      <th>1</th>\n",
       "      <td>Guadalajara</td>\n",
       "      <td>FERROVEJEROS</td>\n",
       "      <td>0</td>\n",
       "      <td>0</td>\n",
       "    </tr>\n",
       "    <tr>\n",
       "      <th>2</th>\n",
       "      <td>Guadalajara</td>\n",
       "      <td>FLAMINGOS</td>\n",
       "      <td>0</td>\n",
       "      <td>0</td>\n",
       "    </tr>\n",
       "    <tr>\n",
       "      <th>3</th>\n",
       "      <td>Guadalajara</td>\n",
       "      <td>LAS ARBOLEDAS</td>\n",
       "      <td>0</td>\n",
       "      <td>0</td>\n",
       "    </tr>\n",
       "    <tr>\n",
       "      <th>4</th>\n",
       "      <td>Guadalajara</td>\n",
       "      <td>PARQUE AGUA AZUL</td>\n",
       "      <td>0</td>\n",
       "      <td>0</td>\n",
       "    </tr>\n",
       "  </tbody>\n",
       "</table>\n",
       "</div>"
      ],
      "text/plain": [
       "     Municipio            Colonia  poblacion_economicamente_activa  \\\n",
       "0  Guadalajara  COMERCIAL ABASTOS                                0   \n",
       "1  Guadalajara       FERROVEJEROS                                0   \n",
       "2  Guadalajara          FLAMINGOS                                0   \n",
       "3  Guadalajara      LAS ARBOLEDAS                                0   \n",
       "4  Guadalajara   PARQUE AGUA AZUL                                0   \n",
       "\n",
       "   viviendas_particulares_habitadas_que_disponen_de_internet  \n",
       "0                                                  0          \n",
       "1                                                  0          \n",
       "2                                                  0          \n",
       "3                                                  0          \n",
       "4                                                  0          "
      ]
     },
     "execution_count": 3,
     "metadata": {},
     "output_type": "execute_result"
    }
   ],
   "source": [
    "data.head(5)"
   ]
  },
  {
   "cell_type": "markdown",
   "metadata": {},
   "source": [
    "Si bien nos demuestra los campos de PEA y VPHDI como vacios, se puede observar que las colonias van en el órden de acuerdo con el documento <b><i>CSV</i></b> que se tiene."
   ]
  },
  {
   "cell_type": "markdown",
   "metadata": {},
   "source": [
    "En este paso se tomarán las dos variables <b>poblacion economicamente activa<i> (PEA)</i></b> y <b>viviendas particulares habitadas que disponen de internet<i> (VPHDI)</i></b>, las cuales las llamaremos <i><b>x</b></i> y <i><b>y</b></i> respectivamente. También se implementará la librería <b><i>matplotlib</i></b> para graficar los datos entre ambas variables."
   ]
  },
  {
   "cell_type": "code",
   "execution_count": 4,
   "metadata": {},
   "outputs": [
    {
     "data": {
      "image/png": "[encoded data removed]",
      "text/plain": [
       "<Figure size 432x288 with 1 Axes>"
      ]
     },
     "metadata": {
      "needs_background": "light"
     },
     "output_type": "display_data"
    }
   ],
   "source": [
    "y = np.array(data['viviendas_particulares_habitadas_que_disponen_de_internet'], int)\n",
    "x = np.array(data['poblacion_economicamente_activa'], int)\n",
    "plt.scatter(x, y)\n",
    "plt.title('Relación PEA y número de viviendas con internet')\n",
    "plt.xlabel('PEA')\n",
    "plt.ylabel('VPHDI')\n",
    "plt.show()"
   ]
  },
  {
   "cell_type": "markdown",
   "metadata": {},
   "source": [
    "Con el gráfico se puede observar que tienen una fuerte correlación ambas variables. Por lo cuál se emplearán a continuación métodos estadísticos para su mejor evaluación."
   ]
  },
  {
   "cell_type": "markdown",
   "metadata": {},
   "source": [
    "### Coeficientes estadísticos"
   ]
  },
  {
   "cell_type": "markdown",
   "metadata": {},
   "source": [
    "Para empezar se sacará el <b>promedio</b> de cada una de las variables junto con su <b>desviación estándar</b>. Todo esto se sacará con el método <b><i>mean</i></b> de la librería <b><i>numpy</i></b>, para sacar el promedio, y el método  <b><i>std</i></b> de la misma libreria para sacar la desviación estándar."
   ]
  },
  {
   "cell_type": "code",
   "execution_count": 5,
   "metadata": {},
   "outputs": [
    {
     "name": "stdout",
     "output_type": "stream",
     "text": [
      "Promedio de X: 1185.2443674176777 \n",
      "Promedio de Y: 524.5476603119585 \n",
      "Desviación estándar de x: 1289.9735319951997 \n",
      "Desviación estándar de y: 546.890372577152\n"
     ]
    }
   ],
   "source": [
    "x_prom = x.mean()\n",
    "y_prom = y.mean()\n",
    "x_desv_std = x.std()\n",
    "y_desv_std = y.std()\n",
    "print(\"Promedio de X:\", x_prom, \n",
    "      \"\\nPromedio de Y:\", y_prom, \n",
    "      \"\\nDesviación estándar de x:\", x_desv_std, \n",
    "      \"\\nDesviación estándar de y:\", y_desv_std,)"
   ]
  },
  {
   "cell_type": "markdown",
   "metadata": {},
   "source": [
    "Al ser datos de una escala muy grande nos ha demostrado que la medida de desviación estándar es muy grande como para tomarse en cuenta, a lo cual se omitirá por el momento y se tomarán otras pruebas estadísticas para la validación de este modelo."
   ]
  },
  {
   "cell_type": "markdown",
   "metadata": {},
   "source": [
    "En esta parte se efectuará el cálculo de la <b>covarianza</b> y la <b>correlación</b> que tiene el PEA con  el VPHDI. Para lo cual se empleara los métodos <b><i>cov</i></b> y <b><i>corrcoef</i></b> de la librería <b><i>numpy</i></b> los cuales darán la covarianza y coeficiente de correlación respectivamente."
   ]
  },
  {
   "cell_type": "code",
   "execution_count": 6,
   "metadata": {},
   "outputs": [
    {
     "name": "stdout",
     "output_type": "stream",
     "text": [
      "Covarianza: 694360.312117875 \n",
      "Correlación: 0.9825405486402901\n"
     ]
    }
   ],
   "source": [
    "print(\"Covarianza:\",np.cov(x,y)[0,1], \"\\nCorrelación:\",np.corrcoef(x,y)[0,1])"
   ]
  },
  {
   "cell_type": "markdown",
   "metadata": {},
   "source": [
    "De nuevo se hace notar un dato atípico siendo la covarianza un número muy grande, incluso mayor al que se encuentran dentro de nuestras muestras."
   ]
  },
  {
   "cell_type": "markdown",
   "metadata": {},
   "source": [
    "Esta vez se sacará la <b>función de la regresión lineal</b> con ayuda de <b><i>stats</i></b> de la libreria <b><i>scipy</i></b>. lo cual nos dará el coeficiente la beta, el intercepto a, el valor de r, el valor de b, y el error estandar del modelo."
   ]
  },
  {
   "cell_type": "code",
   "execution_count": 7,
   "metadata": {},
   "outputs": [
    {
     "name": "stdout",
     "output_type": "stream",
     "text": [
      "a: 30.830910601102232 \n",
      "Beta: 0.41655270700550096\n",
      "Fórmula:  30.830910601102232  +  0.416553X\n"
     ]
    }
   ],
   "source": [
    "gradient, intercept, r_value, p_value, std_err = stats.linregress(x,y)\n",
    "print(\"a:\",intercept,\"\\nBeta:\",gradient)\n",
    "print(\"Fórmula: \", intercept, \" + \", \"%fX\" % gradient)"
   ]
  },
  {
   "cell_type": "markdown",
   "metadata": {},
   "source": [
    "Lo que significa que con cada aumento de <b>un punto</b> en la PEA, la VPHDI se incrementará en <b>.416553 puntos</b>."
   ]
  },
  {
   "cell_type": "markdown",
   "metadata": {},
   "source": [
    "Ya para terminar el análisis estadístico, se implementará la graficación de los datos junto con la recta de la regresión lineal con la ayuda de la librería <b><i>matplotlib</i></b> de nuevo."
   ]
  },
  {
   "cell_type": "code",
   "execution_count": 8,
   "metadata": {},
   "outputs": [
    {
     "data": {
      "image/png": "[encoded data removed]",
      "text/plain": [
       "<Figure size 432x288 with 1 Axes>"
      ]
     },
     "metadata": {
      "needs_background": "light"
     },
     "output_type": "display_data"
    }
   ],
   "source": [
    "mn=np.min(x)\n",
    "mx=np.max(x)\n",
    "x1=np.linspace(mn,mx)\n",
    "y1=gradient*x1+intercept\n",
    "plt.scatter(x,y)\n",
    "plt.plot(x1,y1, 'r')\n",
    "plt.show()"
   ]
  },
  {
   "cell_type": "markdown",
   "metadata": {},
   "source": [
    "### Conclusiones"
   ]
  },
  {
   "cell_type": "markdown",
   "metadata": {},
   "source": [
    "Si bien este trabajo demostraba una fuerte relación en los datos al principio con la gráfica de dispersión; los datos estadísticos demuestran varias inconsistencias para trabajar con ellos en mi condición actual.<br>&emsp;Por lo tanto dejaré este estudio incompleto para poder ganar mayores habilidades para su futuro análisis y perfeccionamiento."
   ]
  },
  {
   "cell_type": "markdown",
   "metadata": {},
   "source": [
    "### Bibliografía:"
   ]
  },
  {
   "cell_type": "markdown",
   "metadata": {},
   "source": [
    "IIEG(2017) Información sociodemográfica por colonia, Área Metropolitana de Guadalajara, Jalisco. Recuperado el 09 de Enero de 2019 en datos.jalisco.gob.mx. Referencia: https://datos.jalisco.gob.mx/dataset/informacion-sociodemografica-por-colonia-area-metropolitana-de-guadalajara-jalisco"
   ]
  }
 ],
 "metadata": {
  "kernelspec": {
   "display_name": "Python 3",
   "language": "python",
   "name": "python3"
  },
  "language_info": {
   "codemirror_mode": {
    "name": "ipython",
    "version": 3
   },
   "file_extension": ".py",
   "mimetype": "text/x-python",
   "name": "python",
   "nbconvert_exporter": "python",
   "pygments_lexer": "ipython3",
   "version": "3.7.1"
  }
 },
 "nbformat": 4,
 "nbformat_minor": 2
}
